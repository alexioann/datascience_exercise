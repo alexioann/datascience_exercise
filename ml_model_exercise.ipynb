{
 "cells": [
  {
   "cell_type": "markdown",
   "id": "b7d703b0",
   "metadata": {},
   "source": [
    "## Problem\n",
    "\n",
    "### High-level problem statement\n",
    "\n",
    "E-commerce websites often transact huge amounts of money. Whenever a huge amount of money is moved, there is a high risk of users performing fraudulent activities, e.g. using stolen credit cards, laundering money, etc. \n",
    "\n",
    "### Objective\n",
    "The goal of this challenge is to build a machine learning model that predicts the probability that the first transaction of a new user is fraudulent.\n",
    "\n",
    "### Details\n",
    "Electronica is an e-commerce site that sells wholesale electronics. You have been contracted to build a model that predicts whether a given transaction is fraudulent or not. You only have information about each user’s first transaction on Electronica’s website. If you fail to identify a fraudulent transaction, Electronica loses money equivalent to the price of the fraudulently purchased product. If you incorrectly flag a real transaction as fraudulent, it inconveniences the Electronica customers whose valid transactions are flagged—a cost your client values at $8.\n",
    "\n"
   ]
  },
  {
   "cell_type": "markdown",
   "id": "c1d1b844",
   "metadata": {},
   "source": [
    "## Solution"
   ]
  },
  {
   "cell_type": "markdown",
   "id": "185117e2",
   "metadata": {},
   "source": [
    "### data exploration"
   ]
  },
  {
   "cell_type": "code",
   "execution_count": 1,
   "id": "c0515e65",
   "metadata": {},
   "outputs": [],
   "source": [
    "# load the the two datasets provided"
   ]
  },
  {
   "cell_type": "code",
   "execution_count": 2,
   "id": "1dd2dda8",
   "metadata": {},
   "outputs": [],
   "source": [
    "import pandas as pd\n",
    "\n",
    "df1 = pd.read_csv(\"../rawdata/Candidate_tech_evaluation_candidate_copy_data science_fraud.csv\", index_col=0)"
   ]
  },
  {
   "cell_type": "code",
   "execution_count": 3,
   "id": "55ade408",
   "metadata": {},
   "outputs": [],
   "source": [
    "df2 = pd.read_excel(\"../rawdata/Candidate_tech_evaluation_candidate_copy_datascience_IpAddress_to_Country.xlsx\")"
   ]
  },
  {
   "cell_type": "code",
   "execution_count": 4,
   "id": "a32eed8e",
   "metadata": {
    "scrolled": true
   },
   "outputs": [
    {
     "name": "stdout",
     "output_type": "stream",
     "text": [
      "        user_id      signup_time    purchase_time  purchase_value  \\\n",
      "149671   285108   7/15/2015 4:36  9/10/2015 14:17              31   \n",
      "15611    131009  1/24/2015 12:29   4/13/2015 4:53              31   \n",
      "73178    328855   3/11/2015 0:54   4/5/2015 12:23              16   \n",
      "84546    229053   1/7/2015 13:19   1/9/2015 10:12              29   \n",
      "35978    108439   2/8/2015 21:11   4/9/2015 14:26              26   \n",
      "\n",
      "            device_id  source  browser sex  age    ip_address  class  \n",
      "149671  HZAKVUFTDOSFD  Direct   Chrome   M   49  2.818400e+09      0  \n",
      "15611   XGQAJSOUJIZCC     SEO       IE   F   21  3.251268e+09      0  \n",
      "73178   VCCTAYDCWKZIY  Direct       IE   M   26  2.727760e+09      0  \n",
      "84546   MFFIHYNXCJLEY     SEO   Chrome   M   34  2.083420e+09      0  \n",
      "35978   WMSXWGVPNIFBM     Ads  FireFox   M   33  3.207913e+09      0  \n",
      "<class 'pandas.core.frame.DataFrame'>\n",
      "Int64Index: 120000 entries, 149671 to 46646\n",
      "Data columns (total 11 columns):\n",
      " #   Column          Non-Null Count   Dtype  \n",
      "---  ------          --------------   -----  \n",
      " 0   user_id         120000 non-null  int64  \n",
      " 1   signup_time     120000 non-null  object \n",
      " 2   purchase_time   120000 non-null  object \n",
      " 3   purchase_value  120000 non-null  int64  \n",
      " 4   device_id       120000 non-null  object \n",
      " 5   source          120000 non-null  object \n",
      " 6   browser         120000 non-null  object \n",
      " 7   sex             120000 non-null  object \n",
      " 8   age             120000 non-null  int64  \n",
      " 9   ip_address      120000 non-null  float64\n",
      " 10  class           120000 non-null  int64  \n",
      "dtypes: float64(1), int64(4), object(6)\n",
      "memory usage: 11.0+ MB\n",
      "None\n"
     ]
    }
   ],
   "source": [
    "# Explore dataset 1\n",
    "\n",
    "print(df1.head())\n",
    "print(df1.info())"
   ]
  },
  {
   "cell_type": "code",
   "execution_count": 5,
   "id": "03e54829",
   "metadata": {},
   "outputs": [
    {
     "name": "stdout",
     "output_type": "stream",
     "text": [
      "0    108735\n",
      "1     11265\n",
      "Name: class, dtype: int64\n",
      "The normal class is 9.7 times more than the fraud class\n"
     ]
    }
   ],
   "source": [
    "#Distribution of the label column\n",
    "dist = df1['class'].value_counts()\n",
    "print(dist)\n",
    "print('The normal class is',round(dist[0]/dist[1],1),'times more than the fraud class')\n",
    "#there is imbalance"
   ]
  },
  {
   "cell_type": "code",
   "execution_count": 6,
   "id": "85eef582",
   "metadata": {},
   "outputs": [
    {
     "data": {
      "text/plain": [
       "(120000, 11)"
      ]
     },
     "execution_count": 6,
     "metadata": {},
     "output_type": "execute_result"
    }
   ],
   "source": [
    "df1.shape"
   ]
  },
  {
   "cell_type": "code",
   "execution_count": 7,
   "id": "47631984",
   "metadata": {},
   "outputs": [
    {
     "name": "stdout",
     "output_type": "stream",
     "text": [
      "   lower_bound_ip_address  upper_bound_ip_address    country\n",
      "0                16777216                16777471  Australia\n",
      "1                16777472                16777727      China\n",
      "2                16777728                16778239      China\n",
      "3                16778240                16779263  Australia\n",
      "4                16779264                16781311      China\n",
      "<class 'pandas.core.frame.DataFrame'>\n",
      "RangeIndex: 138846 entries, 0 to 138845\n",
      "Data columns (total 3 columns):\n",
      " #   Column                  Non-Null Count   Dtype \n",
      "---  ------                  --------------   ----- \n",
      " 0   lower_bound_ip_address  138846 non-null  int64 \n",
      " 1   upper_bound_ip_address  138846 non-null  int64 \n",
      " 2   country                 138846 non-null  object\n",
      "dtypes: int64(2), object(1)\n",
      "memory usage: 3.2+ MB\n",
      "None\n"
     ]
    }
   ],
   "source": [
    "# Explore dataset 2\n",
    "\n",
    "print(df2.head())\n",
    "print(df2.info())"
   ]
  },
  {
   "cell_type": "code",
   "execution_count": 8,
   "id": "d30e790a",
   "metadata": {},
   "outputs": [
    {
     "data": {
      "text/plain": [
       "(138846, 3)"
      ]
     },
     "execution_count": 8,
     "metadata": {},
     "output_type": "execute_result"
    }
   ],
   "source": [
    "df2.shape"
   ]
  },
  {
   "cell_type": "code",
   "execution_count": 9,
   "id": "d5626e24",
   "metadata": {},
   "outputs": [
    {
     "data": {
      "text/plain": [
       "user_id           0\n",
       "signup_time       0\n",
       "purchase_time     0\n",
       "purchase_value    0\n",
       "device_id         0\n",
       "source            0\n",
       "browser           0\n",
       "sex               0\n",
       "age               0\n",
       "ip_address        0\n",
       "class             0\n",
       "dtype: int64"
      ]
     },
     "execution_count": 9,
     "metadata": {},
     "output_type": "execute_result"
    }
   ],
   "source": [
    "# check missing values in dataset 1\n",
    "df1.isnull().sum()"
   ]
  },
  {
   "cell_type": "code",
   "execution_count": 10,
   "id": "5d8c0b33",
   "metadata": {},
   "outputs": [
    {
     "data": {
      "text/plain": [
       "lower_bound_ip_address    0\n",
       "upper_bound_ip_address    0\n",
       "country                   0\n",
       "dtype: int64"
      ]
     },
     "execution_count": 10,
     "metadata": {},
     "output_type": "execute_result"
    }
   ],
   "source": [
    "# check missing values in dataset 2\n",
    "df2.isnull().sum()"
   ]
  },
  {
   "cell_type": "code",
   "execution_count": 11,
   "id": "0cca2225",
   "metadata": {},
   "outputs": [
    {
     "name": "stdout",
     "output_type": "stream",
     "text": [
      "120000\n",
      "120000\n"
     ]
    }
   ],
   "source": [
    "# Check duplicates\n",
    "print(df1[\"user_id\"].nunique())\n",
    "print(len(df1.user_id))"
   ]
  },
  {
   "cell_type": "markdown",
   "id": "6d816dec",
   "metadata": {},
   "source": [
    "### data transformation"
   ]
  },
  {
   "cell_type": "code",
   "execution_count": 12,
   "id": "aed41636",
   "metadata": {},
   "outputs": [],
   "source": [
    "# Convert columns signup_time and purchase_time to datetime format\n",
    "\n",
    "df1['signup_time'] = pd.to_datetime(df1['signup_time'], format='%m/%d/%Y %H:%M')\n",
    "df1['purchase_time'] = pd.to_datetime(df1['purchase_time'], format='%m/%d/%Y %H:%M')"
   ]
  },
  {
   "cell_type": "code",
   "execution_count": 13,
   "id": "4ad10a3d",
   "metadata": {},
   "outputs": [],
   "source": [
    "# create a function which maps the country from dataset 2 to dataset 1 given the ip addresses\n",
    "\n",
    "# Function to check IP address against lower and upper bounds\n",
    "def get_country(ip):\n",
    "    country = df2[(df2['lower_bound_ip_address'] <= ip) & (df2['upper_bound_ip_address'] >= ip)]['country']\n",
    "    return country.values[0] if not country.empty else None"
   ]
  },
  {
   "cell_type": "code",
   "execution_count": 14,
   "id": "afd3e794",
   "metadata": {},
   "outputs": [],
   "source": [
    "# Apply the function to the ip_address column in df1\n",
    "\n",
    "df1['country'] = df1['ip_address'].apply(get_country)"
   ]
  },
  {
   "cell_type": "code",
   "execution_count": 15,
   "id": "f74d88fa",
   "metadata": {},
   "outputs": [
    {
     "data": {
      "text/plain": [
       "user_id               0\n",
       "signup_time           0\n",
       "purchase_time         0\n",
       "purchase_value        0\n",
       "device_id             0\n",
       "source                0\n",
       "browser               0\n",
       "sex                   0\n",
       "age                   0\n",
       "ip_address            0\n",
       "class                 0\n",
       "country           17418\n",
       "dtype: int64"
      ]
     },
     "execution_count": 15,
     "metadata": {},
     "output_type": "execute_result"
    }
   ],
   "source": [
    "# check missing values in dataset 1 after adding country\n",
    "df1.isnull().sum()"
   ]
  },
  {
   "cell_type": "code",
   "execution_count": 16,
   "id": "228c87bd",
   "metadata": {},
   "outputs": [
    {
     "data": {
      "text/plain": [
       "user_id           0\n",
       "signup_time       0\n",
       "purchase_time     0\n",
       "purchase_value    0\n",
       "device_id         0\n",
       "source            0\n",
       "browser           0\n",
       "sex               0\n",
       "age               0\n",
       "ip_address        0\n",
       "class             0\n",
       "country           0\n",
       "dtype: int64"
      ]
     },
     "execution_count": 16,
     "metadata": {},
     "output_type": "execute_result"
    }
   ],
   "source": [
    "# Replace null values in the 'country' column with 'unknown'\n",
    "df1['country'].fillna('unknown', inplace=True)\n",
    "# check for null values again\n",
    "df1.isnull().sum()"
   ]
  },
  {
   "cell_type": "markdown",
   "id": "98769716",
   "metadata": {},
   "source": [
    "### continue data exploration with some graphs"
   ]
  },
  {
   "cell_type": "code",
   "execution_count": 17,
   "id": "60862621",
   "metadata": {},
   "outputs": [
    {
     "data": {
      "image/png": "[encoded data removed]",
      "text/plain": [
       "<Figure size 864x432 with 1 Axes>"
      ]
     },
     "metadata": {
      "needs_background": "light"
     },
     "output_type": "display_data"
    }
   ],
   "source": [
    "import matplotlib.pyplot as plt\n",
    "import seaborn as sns\n",
    "\n",
    "# Explore the distribution of country\n",
    "plt.figure(figsize=(12, 6))\n",
    "sns.histplot(df1['country'], bins=30, kde=True)\n",
    "plt.title('Distribution of Country')\n",
    "plt.xlabel('Country')\n",
    "plt.show()"
   ]
  },
  {
   "cell_type": "code",
   "execution_count": 18,
   "id": "e419674b",
   "metadata": {},
   "outputs": [
    {
     "data": {
      "text/plain": [
       "<Figure size 432x288 with 0 Axes>"
      ]
     },
     "metadata": {},
     "output_type": "display_data"
    },
    {
     "data": {
      "image/png": "[encoded data removed]",
      "text/plain": [
       "<Figure size 576x288 with 1 Axes>"
      ]
     },
     "metadata": {
      "needs_background": "light"
     },
     "output_type": "display_data"
    }
   ],
   "source": [
    "# calculate country frequency and encode the country if it has less than 1000 consumers as 'Others'\n",
    "df1['n_country_shared'] = df1.country.map(df1.country.value_counts(dropna=False))\n",
    "threshold = 1000\n",
    "index = df1['n_country_shared']<threshold\n",
    "df1.loc[index,['country']]='Others'\n",
    "\n",
    "#sort fraud rates\n",
    "plt.figure()\n",
    "sns.set_palette(\"Blues_r\")\n",
    "fig, ax = plt.subplots(figsize=(8,4))\n",
    "\n",
    "# Calculate the percentage of target=1 per country\n",
    "cat_perc = df1[['country', 'class']].groupby(['country'],as_index=False).mean()\n",
    "cat_perc.sort_values(by='class',ascending=False,inplace=True)\n",
    "\n",
    "# Bar plot\n",
    "# Order the bars descending on target mean\n",
    "    \n",
    "sns.barplot(ax=ax, x='country', y='class', data=cat_perc, order=cat_perc['country'])\n",
    "\n",
    "plt.ylabel('% status', fontsize=10)\n",
    "plt.xlabel('country', fontsize=9)\n",
    "plt.tick_params(axis='both', which='major', labelsize=6)\n",
    "plt.show();"
   ]
  },
  {
   "cell_type": "code",
   "execution_count": 19,
   "id": "9a5ff871",
   "metadata": {},
   "outputs": [
    {
     "name": "stdout",
     "output_type": "stream",
     "text": [
      "countries with high risk: ['India', 'Canada', 'United Kingdom']\n",
      "countries with medium risk: ['Others', 'United States', 'Japan', 'France', 'Brazil', 'Korea Republic of', 'Australia', 'China', 'unknown', 'Italy']\n",
      "countries with low risk: ['Russian Federation', 'Netherlands', 'Germany']\n"
     ]
    }
   ],
   "source": [
    "#country - create risk profile for each country\n",
    "fraud_rate_country = df1.groupby('country')['class'].value_counts(normalize=True).loc[:,1].sort_values(ascending=False)\n",
    "def state_risk_classifier(v):\n",
    "    global highrisk_country, mediumrisk_country, lowrisk_country\n",
    "    highrisk_country=[]\n",
    "    mediumrisk_country=[]\n",
    "    lowrisk_country=[]\n",
    "    \n",
    "    for country in v.index:\n",
    "        if v[country]>=0.1:\n",
    "            highrisk_country.append(country)\n",
    "        elif v[country]<0.08:\n",
    "            lowrisk_country.append(country)\n",
    "        else:\n",
    "            mediumrisk_country.append(country)\n",
    "    \n",
    "    print('countries with high risk:', highrisk_country)\n",
    "    print('countries with medium risk:', mediumrisk_country)\n",
    "    print('countries with low risk:',lowrisk_country)\n",
    "\n",
    "state_risk_classifier(fraud_rate_country)"
   ]
  },
  {
   "cell_type": "code",
   "execution_count": 20,
   "id": "4d39f0ff",
   "metadata": {},
   "outputs": [
    {
     "data": {
      "image/png": "[encoded data removed]",
      "text/plain": [
       "<Figure size 576x432 with 1 Axes>"
      ]
     },
     "metadata": {
      "needs_background": "light"
     },
     "output_type": "display_data"
    }
   ],
   "source": [
    "# Explore the distribution of the target variable (class)\n",
    "plt.figure(figsize=(8, 6))\n",
    "sns.countplot(x='class', data=df1)\n",
    "plt.title('Distribution of Classes')\n",
    "plt.show()"
   ]
  },
  {
   "cell_type": "markdown",
   "id": "b8641491",
   "metadata": {},
   "source": [
    "As expected in fraud detection, there is a class imbalance (very few fraudulent cases). In this case, it’s very easy to get a high accuracy even with a simple linear learner. However, despite the high accuracy, there are still several false positives and false negatives. This is not surprising because even a rule-based system (e.g. simple if-else statement) that labels everything as negative (not fraudulent) would still achieve a high accuracy with highly imbalanced data.\n",
    "\n",
    "To overcome this issue, our model needs to be tuned such that it’s optimized for either precision or recall. Since we want to\n",
    "catch as many fradulent transactions as possible then optimize we will optimize our model for high recall"
   ]
  },
  {
   "cell_type": "code",
   "execution_count": 21,
   "id": "c912a529",
   "metadata": {},
   "outputs": [
    {
     "data": {
      "image/png": "[encoded data removed]",
      "text/plain": [
       "<Figure size 864x432 with 1 Axes>"
      ]
     },
     "metadata": {
      "needs_background": "light"
     },
     "output_type": "display_data"
    }
   ],
   "source": [
    "# Explore the distribution of purchase values\n",
    "plt.figure(figsize=(12, 6))\n",
    "sns.histplot(df1['purchase_value'], bins=30, kde=True)\n",
    "plt.title('Distribution of Purchase Values')\n",
    "plt.xlabel('Purchase Value')\n",
    "plt.show()"
   ]
  },
  {
   "cell_type": "code",
   "execution_count": 22,
   "id": "2427582d",
   "metadata": {},
   "outputs": [
    {
     "data": {
      "image/png": "[encoded data removed]",
      "text/plain": [
       "<Figure size 864x432 with 1 Axes>"
      ]
     },
     "metadata": {
      "needs_background": "light"
     },
     "output_type": "display_data"
    }
   ],
   "source": [
    "# Explore the distribution of age\n",
    "plt.figure(figsize=(12, 6))\n",
    "sns.histplot(df1['age'], bins=30, kde=True)\n",
    "plt.title('Distribution of Age')\n",
    "plt.xlabel('Age')\n",
    "plt.show()"
   ]
  },
  {
   "cell_type": "code",
   "execution_count": 23,
   "id": "2bb389f6",
   "metadata": {},
   "outputs": [
    {
     "data": {
      "image/png": "[encoded data removed]",
      "text/plain": [
       "<Figure size 720x432 with 1 Axes>"
      ]
     },
     "metadata": {
      "needs_background": "light"
     },
     "output_type": "display_data"
    },
    {
     "data": {
      "image/png": "[encoded data removed]",
      "text/plain": [
       "<Figure size 720x432 with 1 Axes>"
      ]
     },
     "metadata": {
      "needs_background": "light"
     },
     "output_type": "display_data"
    },
    {
     "data": {
      "image/png": "[encoded data removed]",
      "text/plain": [
       "<Figure size 720x432 with 1 Axes>"
      ]
     },
     "metadata": {
      "needs_background": "light"
     },
     "output_type": "display_data"
    }
   ],
   "source": [
    "# Explore the distribution of categorical features\n",
    "categorical_features = ['source', 'browser', 'sex']\n",
    "\n",
    "for feature in categorical_features:\n",
    "    plt.figure(figsize=(10, 6))\n",
    "    sns.countplot(x=feature, hue='class', data=df1)\n",
    "    plt.title(f'Distribution of {feature} by Class')\n",
    "    plt.show()"
   ]
  },
  {
   "cell_type": "markdown",
   "id": "2dca8f42",
   "metadata": {},
   "source": [
    "## feature engineering"
   ]
  },
  {
   "cell_type": "code",
   "execution_count": 24,
   "id": "47411db9",
   "metadata": {},
   "outputs": [],
   "source": [
    "#Calculate the time difference between signup and purchase\n",
    "df1['time_diff'] = (df1['purchase_time'] - df1['signup_time']).dt.total_seconds()"
   ]
  },
  {
   "cell_type": "code",
   "execution_count": 25,
   "id": "8ed7b671",
   "metadata": {},
   "outputs": [],
   "source": [
    "#calculate the frequency of each device_id to identify patterns related to specific devices\n",
    "df1['device_frequency'] = df1.groupby('device_id')['device_id'].transform('count')"
   ]
  },
  {
   "cell_type": "code",
   "execution_count": 26,
   "id": "fff3cf10",
   "metadata": {},
   "outputs": [],
   "source": [
    "# calculate the day and the hour of the day from the purchase_time\n",
    "df1['purchase_day_of_week'] = df1['purchase_time'].dt.dayofweek\n",
    "df1['purchase_hour_of_day'] = df1['purchase_time'].dt.hour"
   ]
  },
  {
   "cell_type": "code",
   "execution_count": 27,
   "id": "77866445",
   "metadata": {},
   "outputs": [],
   "source": [
    "# create feature interaction between purchase_value and age\n",
    "df1['purchase_value_times_age'] = df1['purchase_value'] * df1['age']"
   ]
  },
  {
   "cell_type": "code",
   "execution_count": 28,
   "id": "0ca56d77",
   "metadata": {},
   "outputs": [
    {
     "data": {
      "text/html": [
       "<div>\n",
       "<style scoped>\n",
       "    .dataframe tbody tr th:only-of-type {\n",
       "        vertical-align: middle;\n",
       "    }\n",
       "\n",
       "    .dataframe tbody tr th {\n",
       "        vertical-align: top;\n",
       "    }\n",
       "\n",
       "    .dataframe thead th {\n",
       "        text-align: right;\n",
       "    }\n",
       "</style>\n",
       "<table border=\"1\" class=\"dataframe\">\n",
       "  <thead>\n",
       "    <tr style=\"text-align: right;\">\n",
       "      <th></th>\n",
       "      <th>user_id</th>\n",
       "      <th>signup_time</th>\n",
       "      <th>purchase_time</th>\n",
       "      <th>purchase_value</th>\n",
       "      <th>device_id</th>\n",
       "      <th>source</th>\n",
       "      <th>browser</th>\n",
       "      <th>sex</th>\n",
       "      <th>age</th>\n",
       "      <th>ip_address</th>\n",
       "      <th>class</th>\n",
       "      <th>country</th>\n",
       "      <th>n_country_shared</th>\n",
       "      <th>time_diff</th>\n",
       "      <th>device_frequency</th>\n",
       "      <th>purchase_day_of_week</th>\n",
       "      <th>purchase_hour_of_day</th>\n",
       "      <th>purchase_value_times_age</th>\n",
       "    </tr>\n",
       "  </thead>\n",
       "  <tbody>\n",
       "    <tr>\n",
       "      <th>149671</th>\n",
       "      <td>285108</td>\n",
       "      <td>2015-07-15 04:36:00</td>\n",
       "      <td>2015-09-10 14:17:00</td>\n",
       "      <td>31</td>\n",
       "      <td>HZAKVUFTDOSFD</td>\n",
       "      <td>Direct</td>\n",
       "      <td>Chrome</td>\n",
       "      <td>M</td>\n",
       "      <td>49</td>\n",
       "      <td>2.818400e+09</td>\n",
       "      <td>0</td>\n",
       "      <td>United States</td>\n",
       "      <td>46184</td>\n",
       "      <td>4959660.0</td>\n",
       "      <td>2</td>\n",
       "      <td>3</td>\n",
       "      <td>14</td>\n",
       "      <td>1519</td>\n",
       "    </tr>\n",
       "    <tr>\n",
       "      <th>15611</th>\n",
       "      <td>131009</td>\n",
       "      <td>2015-01-24 12:29:00</td>\n",
       "      <td>2015-04-13 04:53:00</td>\n",
       "      <td>31</td>\n",
       "      <td>XGQAJSOUJIZCC</td>\n",
       "      <td>SEO</td>\n",
       "      <td>IE</td>\n",
       "      <td>F</td>\n",
       "      <td>21</td>\n",
       "      <td>3.251268e+09</td>\n",
       "      <td>0</td>\n",
       "      <td>United Kingdom</td>\n",
       "      <td>3580</td>\n",
       "      <td>6798240.0</td>\n",
       "      <td>1</td>\n",
       "      <td>0</td>\n",
       "      <td>4</td>\n",
       "      <td>651</td>\n",
       "    </tr>\n",
       "    <tr>\n",
       "      <th>73178</th>\n",
       "      <td>328855</td>\n",
       "      <td>2015-03-11 00:54:00</td>\n",
       "      <td>2015-04-05 12:23:00</td>\n",
       "      <td>16</td>\n",
       "      <td>VCCTAYDCWKZIY</td>\n",
       "      <td>Direct</td>\n",
       "      <td>IE</td>\n",
       "      <td>M</td>\n",
       "      <td>26</td>\n",
       "      <td>2.727760e+09</td>\n",
       "      <td>0</td>\n",
       "      <td>United States</td>\n",
       "      <td>46184</td>\n",
       "      <td>2201340.0</td>\n",
       "      <td>1</td>\n",
       "      <td>6</td>\n",
       "      <td>12</td>\n",
       "      <td>416</td>\n",
       "    </tr>\n",
       "    <tr>\n",
       "      <th>84546</th>\n",
       "      <td>229053</td>\n",
       "      <td>2015-01-07 13:19:00</td>\n",
       "      <td>2015-01-09 10:12:00</td>\n",
       "      <td>29</td>\n",
       "      <td>MFFIHYNXCJLEY</td>\n",
       "      <td>SEO</td>\n",
       "      <td>Chrome</td>\n",
       "      <td>M</td>\n",
       "      <td>34</td>\n",
       "      <td>2.083420e+09</td>\n",
       "      <td>0</td>\n",
       "      <td>Korea Republic of</td>\n",
       "      <td>3341</td>\n",
       "      <td>161580.0</td>\n",
       "      <td>1</td>\n",
       "      <td>4</td>\n",
       "      <td>10</td>\n",
       "      <td>986</td>\n",
       "    </tr>\n",
       "    <tr>\n",
       "      <th>35978</th>\n",
       "      <td>108439</td>\n",
       "      <td>2015-02-08 21:11:00</td>\n",
       "      <td>2015-04-09 14:26:00</td>\n",
       "      <td>26</td>\n",
       "      <td>WMSXWGVPNIFBM</td>\n",
       "      <td>Ads</td>\n",
       "      <td>FireFox</td>\n",
       "      <td>M</td>\n",
       "      <td>33</td>\n",
       "      <td>3.207913e+09</td>\n",
       "      <td>0</td>\n",
       "      <td>Brazil</td>\n",
       "      <td>2353</td>\n",
       "      <td>5159700.0</td>\n",
       "      <td>1</td>\n",
       "      <td>3</td>\n",
       "      <td>14</td>\n",
       "      <td>858</td>\n",
       "    </tr>\n",
       "  </tbody>\n",
       "</table>\n",
       "</div>"
      ],
      "text/plain": [
       "        user_id         signup_time       purchase_time  purchase_value  \\\n",
       "149671   285108 2015-07-15 04:36:00 2015-09-10 14:17:00              31   \n",
       "15611    131009 2015-01-24 12:29:00 2015-04-13 04:53:00              31   \n",
       "73178    328855 2015-03-11 00:54:00 2015-04-05 12:23:00              16   \n",
       "84546    229053 2015-01-07 13:19:00 2015-01-09 10:12:00              29   \n",
       "35978    108439 2015-02-08 21:11:00 2015-04-09 14:26:00              26   \n",
       "\n",
       "            device_id  source  browser sex  age    ip_address  class  \\\n",
       "149671  HZAKVUFTDOSFD  Direct   Chrome   M   49  2.818400e+09      0   \n",
       "15611   XGQAJSOUJIZCC     SEO       IE   F   21  3.251268e+09      0   \n",
       "73178   VCCTAYDCWKZIY  Direct       IE   M   26  2.727760e+09      0   \n",
       "84546   MFFIHYNXCJLEY     SEO   Chrome   M   34  2.083420e+09      0   \n",
       "35978   WMSXWGVPNIFBM     Ads  FireFox   M   33  3.207913e+09      0   \n",
       "\n",
       "                  country  n_country_shared  time_diff  device_frequency  \\\n",
       "149671      United States             46184  4959660.0                 2   \n",
       "15611      United Kingdom              3580  6798240.0                 1   \n",
       "73178       United States             46184  2201340.0                 1   \n",
       "84546   Korea Republic of              3341   161580.0                 1   \n",
       "35978              Brazil              2353  5159700.0                 1   \n",
       "\n",
       "        purchase_day_of_week  purchase_hour_of_day  purchase_value_times_age  \n",
       "149671                     3                    14                      1519  \n",
       "15611                      0                     4                       651  \n",
       "73178                      6                    12                       416  \n",
       "84546                      4                    10                       986  \n",
       "35978                      3                    14                       858  "
      ]
     },
     "execution_count": 28,
     "metadata": {},
     "output_type": "execute_result"
    }
   ],
   "source": [
    "df1.head()"
   ]
  },
  {
   "cell_type": "markdown",
   "id": "fb4579a6",
   "metadata": {},
   "source": [
    "## Data Split"
   ]
  },
  {
   "cell_type": "code",
   "execution_count": 29,
   "id": "670a034d",
   "metadata": {},
   "outputs": [
    {
     "name": "stdout",
     "output_type": "stream",
     "text": [
      "X_train.shape: (96000, 12)\n",
      "y_train.shape: (96000,)\n",
      "X_test.shape: (24000, 12)\n",
      "y_test.shape: (24000,)\n"
     ]
    }
   ],
   "source": [
    "from sklearn.model_selection import train_test_split\n",
    "\n",
    "y = df1['class']\n",
    "X = df1.drop(['user_id', 'signup_time', 'purchase_time', 'device_id', 'ip_address', 'class'], axis=1)  # drop irrelevant columns \n",
    "\n",
    "#split into train/test\n",
    "X_train, X_test, y_train, y_test = train_test_split(X, y, test_size=0.2, random_state=42)\n",
    "print(\"X_train.shape:\", X_train.shape)\n",
    "print(\"y_train.shape:\", y_train.shape)\n",
    "print(\"X_test.shape:\", X_test.shape)\n",
    "print(\"y_test.shape:\", y_test.shape)"
   ]
  },
  {
   "cell_type": "code",
   "execution_count": 30,
   "id": "73559c40",
   "metadata": {},
   "outputs": [
    {
     "data": {
      "text/html": [
       "<div>\n",
       "<style scoped>\n",
       "    .dataframe tbody tr th:only-of-type {\n",
       "        vertical-align: middle;\n",
       "    }\n",
       "\n",
       "    .dataframe tbody tr th {\n",
       "        vertical-align: top;\n",
       "    }\n",
       "\n",
       "    .dataframe thead th {\n",
       "        text-align: right;\n",
       "    }\n",
       "</style>\n",
       "<table border=\"1\" class=\"dataframe\">\n",
       "  <thead>\n",
       "    <tr style=\"text-align: right;\">\n",
       "      <th></th>\n",
       "      <th>purchase_value</th>\n",
       "      <th>source</th>\n",
       "      <th>browser</th>\n",
       "      <th>sex</th>\n",
       "      <th>age</th>\n",
       "      <th>country</th>\n",
       "      <th>n_country_shared</th>\n",
       "      <th>time_diff</th>\n",
       "      <th>device_frequency</th>\n",
       "      <th>purchase_day_of_week</th>\n",
       "      <th>purchase_hour_of_day</th>\n",
       "      <th>purchase_value_times_age</th>\n",
       "    </tr>\n",
       "  </thead>\n",
       "  <tbody>\n",
       "    <tr>\n",
       "      <th>5880</th>\n",
       "      <td>59</td>\n",
       "      <td>SEO</td>\n",
       "      <td>Safari</td>\n",
       "      <td>M</td>\n",
       "      <td>30</td>\n",
       "      <td>United States</td>\n",
       "      <td>46184</td>\n",
       "      <td>8342700.0</td>\n",
       "      <td>1</td>\n",
       "      <td>6</td>\n",
       "      <td>19</td>\n",
       "      <td>1770</td>\n",
       "    </tr>\n",
       "    <tr>\n",
       "      <th>129242</th>\n",
       "      <td>61</td>\n",
       "      <td>SEO</td>\n",
       "      <td>Safari</td>\n",
       "      <td>M</td>\n",
       "      <td>23</td>\n",
       "      <td>United States</td>\n",
       "      <td>46184</td>\n",
       "      <td>0.0</td>\n",
       "      <td>11</td>\n",
       "      <td>6</td>\n",
       "      <td>14</td>\n",
       "      <td>1403</td>\n",
       "    </tr>\n",
       "    <tr>\n",
       "      <th>50070</th>\n",
       "      <td>53</td>\n",
       "      <td>Ads</td>\n",
       "      <td>Safari</td>\n",
       "      <td>M</td>\n",
       "      <td>37</td>\n",
       "      <td>United States</td>\n",
       "      <td>46184</td>\n",
       "      <td>8145720.0</td>\n",
       "      <td>1</td>\n",
       "      <td>2</td>\n",
       "      <td>12</td>\n",
       "      <td>1961</td>\n",
       "    </tr>\n",
       "    <tr>\n",
       "      <th>62015</th>\n",
       "      <td>45</td>\n",
       "      <td>SEO</td>\n",
       "      <td>Chrome</td>\n",
       "      <td>M</td>\n",
       "      <td>32</td>\n",
       "      <td>Others</td>\n",
       "      <td>967</td>\n",
       "      <td>5334780.0</td>\n",
       "      <td>1</td>\n",
       "      <td>3</td>\n",
       "      <td>9</td>\n",
       "      <td>1440</td>\n",
       "    </tr>\n",
       "    <tr>\n",
       "      <th>17415</th>\n",
       "      <td>44</td>\n",
       "      <td>Ads</td>\n",
       "      <td>Chrome</td>\n",
       "      <td>M</td>\n",
       "      <td>40</td>\n",
       "      <td>United States</td>\n",
       "      <td>46184</td>\n",
       "      <td>2392680.0</td>\n",
       "      <td>1</td>\n",
       "      <td>0</td>\n",
       "      <td>8</td>\n",
       "      <td>1760</td>\n",
       "    </tr>\n",
       "  </tbody>\n",
       "</table>\n",
       "</div>"
      ],
      "text/plain": [
       "        purchase_value source browser sex  age        country  \\\n",
       "5880                59    SEO  Safari   M   30  United States   \n",
       "129242              61    SEO  Safari   M   23  United States   \n",
       "50070               53    Ads  Safari   M   37  United States   \n",
       "62015               45    SEO  Chrome   M   32         Others   \n",
       "17415               44    Ads  Chrome   M   40  United States   \n",
       "\n",
       "        n_country_shared  time_diff  device_frequency  purchase_day_of_week  \\\n",
       "5880               46184  8342700.0                 1                     6   \n",
       "129242             46184        0.0                11                     6   \n",
       "50070              46184  8145720.0                 1                     2   \n",
       "62015                967  5334780.0                 1                     3   \n",
       "17415              46184  2392680.0                 1                     0   \n",
       "\n",
       "        purchase_hour_of_day  purchase_value_times_age  \n",
       "5880                      19                      1770  \n",
       "129242                    14                      1403  \n",
       "50070                     12                      1961  \n",
       "62015                      9                      1440  \n",
       "17415                      8                      1760  "
      ]
     },
     "execution_count": 30,
     "metadata": {},
     "output_type": "execute_result"
    }
   ],
   "source": [
    "X_train.head()"
   ]
  },
  {
   "cell_type": "code",
   "execution_count": 31,
   "id": "810c0242",
   "metadata": {},
   "outputs": [],
   "source": [
    "### Convert categorical features with less than 4 classes using one-hot encoding\n",
    "#One hot encoding for source and browser features\n",
    "\n",
    "#Training set\n",
    "X_train = pd.get_dummies(X_train, columns=['source', 'browser'])\n",
    "X_train['sex'] = (X_train.sex == 'M').astype(int)\n",
    "\n",
    "#Testing set\n",
    "X_test = pd.get_dummies(X_test, columns=['source', 'browser'])\n",
    "X_test['sex'] = (X_test.sex == 'M').astype(int)"
   ]
  },
  {
   "cell_type": "code",
   "execution_count": 32,
   "id": "7a0c2d12",
   "metadata": {},
   "outputs": [
    {
     "data": {
      "text/plain": [
       "medium risk    86101\n",
       "high risk       5505\n",
       "low risk        4394\n",
       "Name: country, dtype: int64"
      ]
     },
     "execution_count": 32,
     "metadata": {},
     "output_type": "execute_result"
    }
   ],
   "source": [
    "#create bins for country\n",
    "def country_conversion(s):\n",
    "    if s in highrisk_country:\n",
    "        return 'high risk'\n",
    "    elif s in mediumrisk_country:\n",
    "        return 'medium risk'\n",
    "    else:\n",
    "        return 'low risk'\n",
    "\n",
    "\n",
    "X_train['country'] = X_train['country'].apply(country_conversion)\n",
    "X_train['country'].value_counts()\n"
   ]
  },
  {
   "cell_type": "code",
   "execution_count": 33,
   "id": "78cc2801",
   "metadata": {},
   "outputs": [
    {
     "data": {
      "text/plain": [
       "medium risk    21465\n",
       "high risk       1433\n",
       "low risk        1102\n",
       "Name: country, dtype: int64"
      ]
     },
     "execution_count": 33,
     "metadata": {},
     "output_type": "execute_result"
    }
   ],
   "source": [
    "X_test['country'] = X_test['country'].apply(country_conversion)\n",
    "X_test['country'].value_counts()"
   ]
  },
  {
   "cell_type": "code",
   "execution_count": 34,
   "id": "37c7c45a",
   "metadata": {},
   "outputs": [],
   "source": [
    "X_train = pd.get_dummies(X_train, columns=['country'])\n",
    "X_test = pd.get_dummies(X_test, columns=['country'])"
   ]
  },
  {
   "cell_type": "code",
   "execution_count": 35,
   "id": "3ec9cda3",
   "metadata": {},
   "outputs": [
    {
     "data": {
      "text/html": [
       "<div>\n",
       "<style scoped>\n",
       "    .dataframe tbody tr th:only-of-type {\n",
       "        vertical-align: middle;\n",
       "    }\n",
       "\n",
       "    .dataframe tbody tr th {\n",
       "        vertical-align: top;\n",
       "    }\n",
       "\n",
       "    .dataframe thead th {\n",
       "        text-align: right;\n",
       "    }\n",
       "</style>\n",
       "<table border=\"1\" class=\"dataframe\">\n",
       "  <thead>\n",
       "    <tr style=\"text-align: right;\">\n",
       "      <th></th>\n",
       "      <th>purchase_value</th>\n",
       "      <th>sex</th>\n",
       "      <th>age</th>\n",
       "      <th>n_country_shared</th>\n",
       "      <th>time_diff</th>\n",
       "      <th>device_frequency</th>\n",
       "      <th>purchase_day_of_week</th>\n",
       "      <th>purchase_hour_of_day</th>\n",
       "      <th>purchase_value_times_age</th>\n",
       "      <th>source_Ads</th>\n",
       "      <th>source_Direct</th>\n",
       "      <th>source_SEO</th>\n",
       "      <th>browser_Chrome</th>\n",
       "      <th>browser_FireFox</th>\n",
       "      <th>browser_IE</th>\n",
       "      <th>browser_Opera</th>\n",
       "      <th>browser_Safari</th>\n",
       "      <th>country_high risk</th>\n",
       "      <th>country_low risk</th>\n",
       "      <th>country_medium risk</th>\n",
       "    </tr>\n",
       "  </thead>\n",
       "  <tbody>\n",
       "    <tr>\n",
       "      <th>5880</th>\n",
       "      <td>59</td>\n",
       "      <td>1</td>\n",
       "      <td>30</td>\n",
       "      <td>46184</td>\n",
       "      <td>8342700.0</td>\n",
       "      <td>1</td>\n",
       "      <td>6</td>\n",
       "      <td>19</td>\n",
       "      <td>1770</td>\n",
       "      <td>0</td>\n",
       "      <td>0</td>\n",
       "      <td>1</td>\n",
       "      <td>0</td>\n",
       "      <td>0</td>\n",
       "      <td>0</td>\n",
       "      <td>0</td>\n",
       "      <td>1</td>\n",
       "      <td>0</td>\n",
       "      <td>0</td>\n",
       "      <td>1</td>\n",
       "    </tr>\n",
       "    <tr>\n",
       "      <th>129242</th>\n",
       "      <td>61</td>\n",
       "      <td>1</td>\n",
       "      <td>23</td>\n",
       "      <td>46184</td>\n",
       "      <td>0.0</td>\n",
       "      <td>11</td>\n",
       "      <td>6</td>\n",
       "      <td>14</td>\n",
       "      <td>1403</td>\n",
       "      <td>0</td>\n",
       "      <td>0</td>\n",
       "      <td>1</td>\n",
       "      <td>0</td>\n",
       "      <td>0</td>\n",
       "      <td>0</td>\n",
       "      <td>0</td>\n",
       "      <td>1</td>\n",
       "      <td>0</td>\n",
       "      <td>0</td>\n",
       "      <td>1</td>\n",
       "    </tr>\n",
       "    <tr>\n",
       "      <th>50070</th>\n",
       "      <td>53</td>\n",
       "      <td>1</td>\n",
       "      <td>37</td>\n",
       "      <td>46184</td>\n",
       "      <td>8145720.0</td>\n",
       "      <td>1</td>\n",
       "      <td>2</td>\n",
       "      <td>12</td>\n",
       "      <td>1961</td>\n",
       "      <td>1</td>\n",
       "      <td>0</td>\n",
       "      <td>0</td>\n",
       "      <td>0</td>\n",
       "      <td>0</td>\n",
       "      <td>0</td>\n",
       "      <td>0</td>\n",
       "      <td>1</td>\n",
       "      <td>0</td>\n",
       "      <td>0</td>\n",
       "      <td>1</td>\n",
       "    </tr>\n",
       "    <tr>\n",
       "      <th>62015</th>\n",
       "      <td>45</td>\n",
       "      <td>1</td>\n",
       "      <td>32</td>\n",
       "      <td>967</td>\n",
       "      <td>5334780.0</td>\n",
       "      <td>1</td>\n",
       "      <td>3</td>\n",
       "      <td>9</td>\n",
       "      <td>1440</td>\n",
       "      <td>0</td>\n",
       "      <td>0</td>\n",
       "      <td>1</td>\n",
       "      <td>1</td>\n",
       "      <td>0</td>\n",
       "      <td>0</td>\n",
       "      <td>0</td>\n",
       "      <td>0</td>\n",
       "      <td>0</td>\n",
       "      <td>0</td>\n",
       "      <td>1</td>\n",
       "    </tr>\n",
       "    <tr>\n",
       "      <th>17415</th>\n",
       "      <td>44</td>\n",
       "      <td>1</td>\n",
       "      <td>40</td>\n",
       "      <td>46184</td>\n",
       "      <td>2392680.0</td>\n",
       "      <td>1</td>\n",
       "      <td>0</td>\n",
       "      <td>8</td>\n",
       "      <td>1760</td>\n",
       "      <td>1</td>\n",
       "      <td>0</td>\n",
       "      <td>0</td>\n",
       "      <td>1</td>\n",
       "      <td>0</td>\n",
       "      <td>0</td>\n",
       "      <td>0</td>\n",
       "      <td>0</td>\n",
       "      <td>0</td>\n",
       "      <td>0</td>\n",
       "      <td>1</td>\n",
       "    </tr>\n",
       "  </tbody>\n",
       "</table>\n",
       "</div>"
      ],
      "text/plain": [
       "        purchase_value  sex  age  n_country_shared  time_diff  \\\n",
       "5880                59    1   30             46184  8342700.0   \n",
       "129242              61    1   23             46184        0.0   \n",
       "50070               53    1   37             46184  8145720.0   \n",
       "62015               45    1   32               967  5334780.0   \n",
       "17415               44    1   40             46184  2392680.0   \n",
       "\n",
       "        device_frequency  purchase_day_of_week  purchase_hour_of_day  \\\n",
       "5880                   1                     6                    19   \n",
       "129242                11                     6                    14   \n",
       "50070                  1                     2                    12   \n",
       "62015                  1                     3                     9   \n",
       "17415                  1                     0                     8   \n",
       "\n",
       "        purchase_value_times_age  source_Ads  source_Direct  source_SEO  \\\n",
       "5880                        1770           0              0           1   \n",
       "129242                      1403           0              0           1   \n",
       "50070                       1961           1              0           0   \n",
       "62015                       1440           0              0           1   \n",
       "17415                       1760           1              0           0   \n",
       "\n",
       "        browser_Chrome  browser_FireFox  browser_IE  browser_Opera  \\\n",
       "5880                 0                0           0              0   \n",
       "129242               0                0           0              0   \n",
       "50070                0                0           0              0   \n",
       "62015                1                0           0              0   \n",
       "17415                1                0           0              0   \n",
       "\n",
       "        browser_Safari  country_high risk  country_low risk  \\\n",
       "5880                 1                  0                 0   \n",
       "129242               1                  0                 0   \n",
       "50070                1                  0                 0   \n",
       "62015                0                  0                 0   \n",
       "17415                0                  0                 0   \n",
       "\n",
       "        country_medium risk  \n",
       "5880                      1  \n",
       "129242                    1  \n",
       "50070                     1  \n",
       "62015                     1  \n",
       "17415                     1  "
      ]
     },
     "execution_count": 35,
     "metadata": {},
     "output_type": "execute_result"
    }
   ],
   "source": [
    "X_train.head()"
   ]
  },
  {
   "cell_type": "code",
   "execution_count": 36,
   "id": "0dd5de1e",
   "metadata": {},
   "outputs": [
    {
     "name": "stdout",
     "output_type": "stream",
     "text": [
      "<class 'pandas.core.frame.DataFrame'>\n",
      "Int64Index: 24000 entries, 24946 to 28230\n",
      "Data columns (total 20 columns):\n",
      " #   Column                    Non-Null Count  Dtype  \n",
      "---  ------                    --------------  -----  \n",
      " 0   purchase_value            24000 non-null  int64  \n",
      " 1   sex                       24000 non-null  int32  \n",
      " 2   age                       24000 non-null  int64  \n",
      " 3   n_country_shared          24000 non-null  int64  \n",
      " 4   time_diff                 24000 non-null  float64\n",
      " 5   device_frequency          24000 non-null  int64  \n",
      " 6   purchase_day_of_week      24000 non-null  int64  \n",
      " 7   purchase_hour_of_day      24000 non-null  int64  \n",
      " 8   purchase_value_times_age  24000 non-null  int64  \n",
      " 9   source_Ads                24000 non-null  uint8  \n",
      " 10  source_Direct             24000 non-null  uint8  \n",
      " 11  source_SEO                24000 non-null  uint8  \n",
      " 12  browser_Chrome            24000 non-null  uint8  \n",
      " 13  browser_FireFox           24000 non-null  uint8  \n",
      " 14  browser_IE                24000 non-null  uint8  \n",
      " 15  browser_Opera             24000 non-null  uint8  \n",
      " 16  browser_Safari            24000 non-null  uint8  \n",
      " 17  country_high risk         24000 non-null  uint8  \n",
      " 18  country_low risk          24000 non-null  uint8  \n",
      " 19  country_medium risk       24000 non-null  uint8  \n",
      "dtypes: float64(1), int32(1), int64(7), uint8(11)\n",
      "memory usage: 2.0 MB\n"
     ]
    }
   ],
   "source": [
    "X_test.info()"
   ]
  },
  {
   "cell_type": "code",
   "execution_count": 37,
   "id": "d1e19782",
   "metadata": {},
   "outputs": [],
   "source": [
    "from sklearn import preprocessing\n",
    "from sklearn.preprocessing import MinMaxScaler\n",
    "\n",
    "#Normalization: (min-max) to [0,1]\n",
    "#Using normalization since it would give us the positive columns\n",
    "\n",
    "#Compute the train minimum and maximum to be used for later scaling:\n",
    "scaler = preprocessing.MinMaxScaler().fit(X_train[['device_frequency','n_country_shared','time_diff','purchase_value_times_age']]) \n",
    "#print(scaler.data_max_)\n",
    "\n",
    "#transform the training data and use them for the model training\n",
    "X_train[['device_frequency','n_country_shared','time_diff','purchase_value_times_age']] = scaler.transform(X_train[['device_frequency','n_country_shared','time_diff','purchase_value_times_age']])\n",
    "\n",
    "#before the prediction of the test data, apply the same scaler obtained from above on X_test, not fitting a brandnew scaler on test\n",
    "X_test[['device_frequency','n_country_shared','time_diff','purchase_value_times_age']] = scaler.transform(X_test[['device_frequency','n_country_shared','time_diff','purchase_value_times_age']])                                                                                     "
   ]
  },
  {
   "cell_type": "code",
   "execution_count": 38,
   "id": "5c10c270",
   "metadata": {},
   "outputs": [
    {
     "data": {
      "text/html": [
       "<div>\n",
       "<style scoped>\n",
       "    .dataframe tbody tr th:only-of-type {\n",
       "        vertical-align: middle;\n",
       "    }\n",
       "\n",
       "    .dataframe tbody tr th {\n",
       "        vertical-align: top;\n",
       "    }\n",
       "\n",
       "    .dataframe thead th {\n",
       "        text-align: right;\n",
       "    }\n",
       "</style>\n",
       "<table border=\"1\" class=\"dataframe\">\n",
       "  <thead>\n",
       "    <tr style=\"text-align: right;\">\n",
       "      <th></th>\n",
       "      <th>purchase_value</th>\n",
       "      <th>sex</th>\n",
       "      <th>age</th>\n",
       "      <th>n_country_shared</th>\n",
       "      <th>time_diff</th>\n",
       "      <th>device_frequency</th>\n",
       "      <th>purchase_day_of_week</th>\n",
       "      <th>purchase_hour_of_day</th>\n",
       "      <th>purchase_value_times_age</th>\n",
       "      <th>source_Ads</th>\n",
       "      <th>source_Direct</th>\n",
       "      <th>source_SEO</th>\n",
       "      <th>browser_Chrome</th>\n",
       "      <th>browser_FireFox</th>\n",
       "      <th>browser_IE</th>\n",
       "      <th>browser_Opera</th>\n",
       "      <th>browser_Safari</th>\n",
       "      <th>country_high risk</th>\n",
       "      <th>country_low risk</th>\n",
       "      <th>country_medium risk</th>\n",
       "    </tr>\n",
       "  </thead>\n",
       "  <tbody>\n",
       "    <tr>\n",
       "      <th>5880</th>\n",
       "      <td>59</td>\n",
       "      <td>1</td>\n",
       "      <td>30</td>\n",
       "      <td>1.000000</td>\n",
       "      <td>0.804663</td>\n",
       "      <td>0.000000</td>\n",
       "      <td>6</td>\n",
       "      <td>19</td>\n",
       "      <td>0.256951</td>\n",
       "      <td>0</td>\n",
       "      <td>0</td>\n",
       "      <td>1</td>\n",
       "      <td>0</td>\n",
       "      <td>0</td>\n",
       "      <td>0</td>\n",
       "      <td>0</td>\n",
       "      <td>1</td>\n",
       "      <td>0</td>\n",
       "      <td>0</td>\n",
       "      <td>1</td>\n",
       "    </tr>\n",
       "    <tr>\n",
       "      <th>129242</th>\n",
       "      <td>61</td>\n",
       "      <td>1</td>\n",
       "      <td>23</td>\n",
       "      <td>1.000000</td>\n",
       "      <td>0.000000</td>\n",
       "      <td>0.555556</td>\n",
       "      <td>6</td>\n",
       "      <td>14</td>\n",
       "      <td>0.198306</td>\n",
       "      <td>0</td>\n",
       "      <td>0</td>\n",
       "      <td>1</td>\n",
       "      <td>0</td>\n",
       "      <td>0</td>\n",
       "      <td>0</td>\n",
       "      <td>0</td>\n",
       "      <td>1</td>\n",
       "      <td>0</td>\n",
       "      <td>0</td>\n",
       "      <td>1</td>\n",
       "    </tr>\n",
       "    <tr>\n",
       "      <th>50070</th>\n",
       "      <td>53</td>\n",
       "      <td>1</td>\n",
       "      <td>37</td>\n",
       "      <td>1.000000</td>\n",
       "      <td>0.785664</td>\n",
       "      <td>0.000000</td>\n",
       "      <td>2</td>\n",
       "      <td>12</td>\n",
       "      <td>0.287472</td>\n",
       "      <td>1</td>\n",
       "      <td>0</td>\n",
       "      <td>0</td>\n",
       "      <td>0</td>\n",
       "      <td>0</td>\n",
       "      <td>0</td>\n",
       "      <td>0</td>\n",
       "      <td>1</td>\n",
       "      <td>0</td>\n",
       "      <td>0</td>\n",
       "      <td>1</td>\n",
       "    </tr>\n",
       "    <tr>\n",
       "      <th>62015</th>\n",
       "      <td>45</td>\n",
       "      <td>1</td>\n",
       "      <td>32</td>\n",
       "      <td>0.020917</td>\n",
       "      <td>0.514546</td>\n",
       "      <td>0.000000</td>\n",
       "      <td>3</td>\n",
       "      <td>9</td>\n",
       "      <td>0.204219</td>\n",
       "      <td>0</td>\n",
       "      <td>0</td>\n",
       "      <td>1</td>\n",
       "      <td>1</td>\n",
       "      <td>0</td>\n",
       "      <td>0</td>\n",
       "      <td>0</td>\n",
       "      <td>0</td>\n",
       "      <td>0</td>\n",
       "      <td>0</td>\n",
       "      <td>1</td>\n",
       "    </tr>\n",
       "    <tr>\n",
       "      <th>17415</th>\n",
       "      <td>44</td>\n",
       "      <td>1</td>\n",
       "      <td>40</td>\n",
       "      <td>1.000000</td>\n",
       "      <td>0.230777</td>\n",
       "      <td>0.000000</td>\n",
       "      <td>0</td>\n",
       "      <td>8</td>\n",
       "      <td>0.255353</td>\n",
       "      <td>1</td>\n",
       "      <td>0</td>\n",
       "      <td>0</td>\n",
       "      <td>1</td>\n",
       "      <td>0</td>\n",
       "      <td>0</td>\n",
       "      <td>0</td>\n",
       "      <td>0</td>\n",
       "      <td>0</td>\n",
       "      <td>0</td>\n",
       "      <td>1</td>\n",
       "    </tr>\n",
       "  </tbody>\n",
       "</table>\n",
       "</div>"
      ],
      "text/plain": [
       "        purchase_value  sex  age  n_country_shared  time_diff  \\\n",
       "5880                59    1   30          1.000000   0.804663   \n",
       "129242              61    1   23          1.000000   0.000000   \n",
       "50070               53    1   37          1.000000   0.785664   \n",
       "62015               45    1   32          0.020917   0.514546   \n",
       "17415               44    1   40          1.000000   0.230777   \n",
       "\n",
       "        device_frequency  purchase_day_of_week  purchase_hour_of_day  \\\n",
       "5880            0.000000                     6                    19   \n",
       "129242          0.555556                     6                    14   \n",
       "50070           0.000000                     2                    12   \n",
       "62015           0.000000                     3                     9   \n",
       "17415           0.000000                     0                     8   \n",
       "\n",
       "        purchase_value_times_age  source_Ads  source_Direct  source_SEO  \\\n",
       "5880                    0.256951           0              0           1   \n",
       "129242                  0.198306           0              0           1   \n",
       "50070                   0.287472           1              0           0   \n",
       "62015                   0.204219           0              0           1   \n",
       "17415                   0.255353           1              0           0   \n",
       "\n",
       "        browser_Chrome  browser_FireFox  browser_IE  browser_Opera  \\\n",
       "5880                 0                0           0              0   \n",
       "129242               0                0           0              0   \n",
       "50070                0                0           0              0   \n",
       "62015                1                0           0              0   \n",
       "17415                1                0           0              0   \n",
       "\n",
       "        browser_Safari  country_high risk  country_low risk  \\\n",
       "5880                 1                  0                 0   \n",
       "129242               1                  0                 0   \n",
       "50070                1                  0                 0   \n",
       "62015                0                  0                 0   \n",
       "17415                0                  0                 0   \n",
       "\n",
       "        country_medium risk  \n",
       "5880                      1  \n",
       "129242                    1  \n",
       "50070                     1  \n",
       "62015                     1  \n",
       "17415                     1  "
      ]
     },
     "execution_count": 38,
     "metadata": {},
     "output_type": "execute_result"
    }
   ],
   "source": [
    "X_train.head()"
   ]
  },
  {
   "cell_type": "markdown",
   "id": "7ff45781",
   "metadata": {},
   "source": [
    "## Experiments\n",
    "\n",
    "### Simple ML Model - baseline with random forest"
   ]
  },
  {
   "cell_type": "code",
   "execution_count": 39,
   "id": "a3483b53",
   "metadata": {},
   "outputs": [
    {
     "name": "stdout",
     "output_type": "stream",
     "text": [
      "Random Forest:\n",
      "              precision    recall  f1-score   support\n",
      "\n",
      "           0       0.95      1.00      0.98     21768\n",
      "           1       0.99      0.53      0.69      2232\n",
      "\n",
      "    accuracy                           0.96     24000\n",
      "   macro avg       0.97      0.77      0.83     24000\n",
      "weighted avg       0.96      0.96      0.95     24000\n",
      "\n",
      "[[21754    14]\n",
      " [ 1047  1185]]\n",
      "Recall: 0.5309139784946236\n",
      "\n",
      "\n"
     ]
    }
   ],
   "source": [
    "from sklearn.ensemble import RandomForestClassifier\n",
    "\n",
    "from sklearn.metrics import classification_report, confusion_matrix, recall_score\n",
    "\n",
    "# Define models\n",
    "random_forest_model = RandomForestClassifier(random_state=42)\n",
    "\n",
    "# Train and evaluate Random Forest model\n",
    "random_forest_model.fit(X_train, y_train)\n",
    "\n",
    "# Predict on the test set\n",
    "y_pred_rf = random_forest_model.predict(X_test)\n",
    "\n",
    "print(\"Random Forest:\")\n",
    "print(classification_report(y_test, y_pred_rf))\n",
    "print(confusion_matrix(y_test, y_pred_rf))\n",
    "print(\"Recall:\", recall_score(y_test, y_pred_rf))\n",
    "print(\"\\n\")\n"
   ]
  },
  {
   "cell_type": "markdown",
   "id": "2fb82aaa",
   "metadata": {},
   "source": [
    "### Logistic Regression"
   ]
  },
  {
   "cell_type": "code",
   "execution_count": 40,
   "id": "42e12971",
   "metadata": {},
   "outputs": [
    {
     "name": "stdout",
     "output_type": "stream",
     "text": [
      "Logistic Regression:\n",
      "              precision    recall  f1-score   support\n",
      "\n",
      "           0       0.95      1.00      0.97     21768\n",
      "           1       0.92      0.52      0.66      2232\n",
      "\n",
      "    accuracy                           0.95     24000\n",
      "   macro avg       0.94      0.76      0.82     24000\n",
      "weighted avg       0.95      0.95      0.94     24000\n",
      "\n",
      "Recall: 0.5152329749103942\n",
      "\n",
      "\n"
     ]
    },
    {
     "name": "stderr",
     "output_type": "stream",
     "text": [
      "C:\\Users\\AIoanni1\\Anaconda3\\lib\\site-packages\\sklearn\\linear_model\\_logistic.py:444: ConvergenceWarning: lbfgs failed to converge (status=1):\n",
      "STOP: TOTAL NO. of ITERATIONS REACHED LIMIT.\n",
      "\n",
      "Increase the number of iterations (max_iter) or scale the data as shown in:\n",
      "    https://scikit-learn.org/stable/modules/preprocessing.html\n",
      "Please also refer to the documentation for alternative solver options:\n",
      "    https://scikit-learn.org/stable/modules/linear_model.html#logistic-regression\n",
      "  n_iter_i = _check_optimize_result(\n"
     ]
    }
   ],
   "source": [
    "from sklearn.linear_model import LogisticRegression\n",
    "\n",
    "logistic_regression_model = LogisticRegression(random_state=42)\n",
    "\n",
    "# Train and evaluate Logistic Regression model\n",
    "logistic_regression_model.fit(X_train, y_train)\n",
    "y_pred_lr = logistic_regression_model.predict(X_test)\n",
    "\n",
    "print(\"Logistic Regression:\")\n",
    "print(classification_report(y_test, y_pred_lr))\n",
    "print(\"Recall:\", recall_score(y_test, y_pred_lr))\n",
    "print(\"\\n\")"
   ]
  },
  {
   "cell_type": "markdown",
   "id": "a4f5caa0",
   "metadata": {},
   "source": [
    "### Gradient Boosting"
   ]
  },
  {
   "cell_type": "code",
   "execution_count": 41,
   "id": "00952913",
   "metadata": {},
   "outputs": [
    {
     "name": "stdout",
     "output_type": "stream",
     "text": [
      "Gradient Boosting:\n",
      "              precision    recall  f1-score   support\n",
      "\n",
      "           0       0.95      1.00      0.98     21768\n",
      "           1       1.00      0.53      0.69      2232\n",
      "\n",
      "    accuracy                           0.96     24000\n",
      "   macro avg       0.98      0.76      0.83     24000\n",
      "weighted avg       0.96      0.96      0.95     24000\n",
      "\n",
      "Recall: 0.5291218637992832\n",
      "\n",
      "\n"
     ]
    }
   ],
   "source": [
    "from sklearn.ensemble import GradientBoostingClassifier\n",
    "\n",
    "# Define models\n",
    "gradient_boosting_model = GradientBoostingClassifier(random_state=42)\n",
    "\n",
    "# Train and evaluate Gradient Boosting model\n",
    "gradient_boosting_model.fit(X_train, y_train)\n",
    "\n",
    "# Predict on the test set\n",
    "y_pred_gb = gradient_boosting_model.predict(X_test)\n",
    "\n",
    "print(\"Gradient Boosting:\")\n",
    "print(classification_report(y_test, y_pred_gb))\n",
    "print(\"Recall:\", recall_score(y_test, y_pred_gb))\n",
    "print(\"\\n\")"
   ]
  },
  {
   "cell_type": "markdown",
   "id": "1116b602",
   "metadata": {},
   "source": [
    "### Parameter Tuning - optimize for F1 score"
   ]
  },
  {
   "cell_type": "code",
   "execution_count": 42,
   "id": "ee74aa94",
   "metadata": {},
   "outputs": [],
   "source": [
    "from sklearn.model_selection import RandomizedSearchCV\n",
    "from scipy.stats import randint\n",
    "from sklearn.metrics import make_scorer, f1_score\n",
    "\n",
    "# Define F1 score as the scoring metric\n",
    "scorer = make_scorer(f1_score)\n",
    "\n",
    "# Hyperparameter distributions for Random Forest\n",
    "param_dist_rf = {\n",
    "    'n_estimators': randint(50, 200),\n",
    "    'max_depth': [None, 10, 20],\n",
    "    'min_samples_split': randint(2, 10),\n",
    "    'min_samples_leaf': randint(1, 4)\n",
    "}\n",
    "\n",
    "# Hyperparameter distributions for Gradient Boosting\n",
    "param_dist_gb = {\n",
    "    'n_estimators': randint(50, 200),\n",
    "    'learning_rate': [0.01, 0.1, 0.2],\n",
    "    'max_depth': [3, 5, 7],\n",
    "    'min_samples_split': randint(2, 10),\n",
    "    'min_samples_leaf': randint(1, 4)\n",
    "}"
   ]
  },
  {
   "cell_type": "code",
   "execution_count": 43,
   "id": "5147d40c",
   "metadata": {},
   "outputs": [
    {
     "name": "stdout",
     "output_type": "stream",
     "text": [
      "Random Forest (Best Model):\n",
      "              precision    recall  f1-score   support\n",
      "\n",
      "           0       0.95      1.00      0.98     21768\n",
      "           1       1.00      0.53      0.69      2232\n",
      "\n",
      "    accuracy                           0.96     24000\n",
      "   macro avg       0.98      0.76      0.83     24000\n",
      "weighted avg       0.96      0.96      0.95     24000\n",
      "\n",
      "Recall: 0.5291218637992832\n",
      "\n",
      "\n"
     ]
    }
   ],
   "source": [
    "# Perform Randomized Search for Random Forest\n",
    "random_search_rf = RandomizedSearchCV(RandomForestClassifier(random_state=42), param_distributions=param_dist_rf,\n",
    "                                       scoring=scorer, cv=3, n_iter=5, random_state=42)\n",
    "random_search_rf.fit(X_train, y_train)\n",
    "\n",
    "# Get the best Random Forest model\n",
    "best_rf_model = random_search_rf.best_estimator_\n",
    "\n",
    "# Predict on the test set using the best Random Forest model\n",
    "y_pred_rf_best = best_rf_model.predict(X_test)\n",
    "\n",
    "print(\"Random Forest (Best Model):\")\n",
    "print(classification_report(y_test, y_pred_rf_best))\n",
    "print(\"Recall:\", recall_score(y_test, y_pred_rf_best))\n",
    "print(\"\\n\")"
   ]
  },
  {
   "cell_type": "code",
   "execution_count": 44,
   "id": "37f4be5e",
   "metadata": {},
   "outputs": [
    {
     "name": "stdout",
     "output_type": "stream",
     "text": [
      "Gradient Boosting (Best Model):\n",
      "              precision    recall  f1-score   support\n",
      "\n",
      "           0       0.95      1.00      0.98     21768\n",
      "           1       1.00      0.53      0.69      2232\n",
      "\n",
      "    accuracy                           0.96     24000\n",
      "   macro avg       0.98      0.76      0.83     24000\n",
      "weighted avg       0.96      0.96      0.95     24000\n",
      "\n",
      "Recall: 0.5291218637992832\n",
      "\n",
      "\n"
     ]
    }
   ],
   "source": [
    "# Perform Randomized Search for Gradient Boosting\n",
    "random_search_gb = RandomizedSearchCV(GradientBoostingClassifier(random_state=42), param_distributions=param_dist_gb,\n",
    "                                       scoring=scorer, cv=3, n_iter=5, random_state=42)\n",
    "random_search_gb.fit(X_train, y_train)\n",
    "\n",
    "# Get the best Gradient Boosting model\n",
    "best_gb_model = random_search_gb.best_estimator_\n",
    "\n",
    "# Predict on the test set using the best Gradient Boosting model\n",
    "y_pred_gb_best = best_gb_model.predict(X_test)\n",
    "\n",
    "print(\"Gradient Boosting (Best Model):\")\n",
    "print(classification_report(y_test, y_pred_gb_best))\n",
    "print(\"Recall:\", recall_score(y_test, y_pred_gb_best))\n",
    "print(\"\\n\")"
   ]
  },
  {
   "cell_type": "code",
   "execution_count": 45,
   "id": "0feddc68",
   "metadata": {},
   "outputs": [
    {
     "name": "stdout",
     "output_type": "stream",
     "text": [
      "Random Forest (with Oversampling):\n",
      "              precision    recall  f1-score   support\n",
      "\n",
      "           0       0.96      1.00      0.98     21768\n",
      "           1       0.93      0.55      0.69      2232\n",
      "\n",
      "    accuracy                           0.95     24000\n",
      "   macro avg       0.94      0.77      0.83     24000\n",
      "weighted avg       0.95      0.95      0.95     24000\n",
      "\n",
      "F1 Score: 0.6885245901639344\n"
     ]
    }
   ],
   "source": [
    "# trying resampling with random forest model to see if there is any benefit\n",
    "\n",
    "from imblearn.over_sampling import RandomOverSampler\n",
    "from sklearn.ensemble import RandomForestClassifier\n",
    "from sklearn.metrics import classification_report, make_scorer, f1_score\n",
    "from sklearn.model_selection import train_test_split\n",
    "\n",
    "# Define F1 score as the scoring metric\n",
    "scorer = make_scorer(f1_score)\n",
    "\n",
    "# Apply oversampling to the training set\n",
    "oversampler = RandomOverSampler(random_state=42)\n",
    "X_train_resampled, y_train_resampled = oversampler.fit_resample(X_train, y_train)\n",
    "\n",
    "# Train Random Forest on the resampled data\n",
    "random_forest_model = RandomForestClassifier(random_state=42)\n",
    "random_forest_model.fit(X_train_resampled, y_train_resampled)\n",
    "\n",
    "# Predict on the test set\n",
    "y_pred_rf = random_forest_model.predict(X_test)\n",
    "\n",
    "# Evaluate the model\n",
    "print(\"Random Forest (with Oversampling):\")\n",
    "print(classification_report(y_test, y_pred_rf))\n",
    "print(\"F1 Score:\", f1_score(y_test, y_pred_rf))"
   ]
  },
  {
   "cell_type": "markdown",
   "id": "7a939a66",
   "metadata": {},
   "source": [
    "We can conclude that oversampling did not provide any huge benefit so we are not going to use it."
   ]
  },
  {
   "cell_type": "markdown",
   "id": "2dda8f9d",
   "metadata": {},
   "source": [
    "### Model selection"
   ]
  },
  {
   "cell_type": "markdown",
   "id": "e411a16f",
   "metadata": {},
   "source": [
    "Based on the results above on the models' performance , it can be seen that there is no big difference between random forest and gradient boosting.\n",
    "Considering Random forest is faster, I propose random forest as the best model for this project.\n"
   ]
  },
  {
   "cell_type": "code",
   "execution_count": 47,
   "id": "054192b8",
   "metadata": {},
   "outputs": [
    {
     "data": {
      "text/plain": [
       "Text(0, 0.5, 'Feature Importance Score')"
      ]
     },
     "execution_count": 47,
     "metadata": {},
     "output_type": "execute_result"
    },
    {
     "data": {
      "image/png": "[encoded data removed]",
      "text/plain": [
       "<Figure size 432x288 with 1 Axes>"
      ]
     },
     "metadata": {
      "needs_background": "light"
     },
     "output_type": "display_data"
    }
   ],
   "source": [
    "#features importance\n",
    "\n",
    "predictors = [x for x in X_train.columns]\n",
    "feat_imp = pd.Series(best_rf_model.feature_importances_,predictors).sort_values(ascending=False)\n",
    "feat_imp.plot(kind='bar', title='Feature Importances of Random Forest model')\n",
    "plt.ylabel('Feature Importance Score')"
   ]
  },
  {
   "cell_type": "markdown",
   "id": "f08f2748",
   "metadata": {},
   "source": [
    "#### features importance \n",
    "\n",
    "time_diff and device frequency features dominate the predictive performance of our model.\n"
   ]
  },
  {
   "cell_type": "code",
   "execution_count": null,
   "id": "c1a69fa4",
   "metadata": {},
   "outputs": [],
   "source": []
  },
  {
   "cell_type": "code",
   "execution_count": null,
   "id": "4a0f03e5",
   "metadata": {},
   "outputs": [],
   "source": [
    "\n",
    "\n",
    "\n",
    "\n"
   ]
  },
  {
   "cell_type": "code",
   "execution_count": null,
   "id": "a37ddfc3",
   "metadata": {},
   "outputs": [],
   "source": [
    "\n",
    "\n"
   ]
  }
 ],
 "metadata": {
  "kernelspec": {
   "display_name": "Python 3 (ipykernel)",
   "language": "python",
   "name": "python3"
  },
  "language_info": {
   "codemirror_mode": {
    "name": "ipython",
    "version": 3
   },
   "file_extension": ".py",
   "mimetype": "text/x-python",
   "name": "python",
   "nbconvert_exporter": "python",
   "pygments_lexer": "ipython3",
   "version": "3.9.12"
  }
 },
 "nbformat": 4,
 "nbformat_minor": 5
}
